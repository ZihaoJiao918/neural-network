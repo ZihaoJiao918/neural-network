{
  "nbformat": 4,
  "nbformat_minor": 0,
  "metadata": {
    "colab": {
      "name": "a3_part1_B.ipynb",
      "provenance": []
    },
    "kernelspec": {
      "name": "python3",
      "display_name": "Python 3"
    }
  },
  "cells": [
    {
      "cell_type": "code",
      "metadata": {
        "id": "WZW2Zw4b7kpz",
        "colab_type": "code",
        "colab": {}
      },
      "source": [
        "import numpy as np\n",
        "import matplotlib.pyplot as plt\n",
        "from scipy.special import expit as sigmoid\n",
        "import pandas as pd\n",
        "from sklearn.model_selection import train_test_split\n",
        "\n",
        "%matplotlib inline"
      ],
      "execution_count": 0,
      "outputs": []
    },
    {
      "cell_type": "code",
      "metadata": {
        "id": "EHFI2BfjG0FP",
        "colab_type": "code",
        "colab": {}
      },
      "source": [
        "def generate_data(number_of_sample_entries):\n",
        "\n",
        " #initialize size\n",
        "  data = np.ndarray((number_of_sample_entries,3))\n",
        "  label = np.zeros((number_of_sample_entries,3))\n",
        "  \n",
        "  #class 1\n",
        "  class_1 = number_of_sample_entries//3\n",
        "  data[0:class_1, :] = np.random.uniform(low=1, high=5,size=(class_1,3))\n",
        "  label[0:class_1, :] = np.array([1,0,0])\n",
        "  #class 2\n",
        "  class_2 = class_1 + number_of_sample_entries//3\n",
        "  data[class_1:class_2, :] = np.random.uniform(low=10, high=15,size=(class_1,3))\n",
        "  label[class_1:class_2, :] = np.array([0,1,0])\n",
        "  #class 3\n",
        "  class_3 = class_2 + number_of_sample_entries//3\n",
        "  data[class_2:class_3, :] = np.random.uniform(low=20, high=25,size=(class_1,3))\n",
        "  label[class_2:class_3, :] = np.array([0,0,1])\n",
        "\n",
        "  #build it into datafram\n",
        "  x = pd.DataFrame(data)\n",
        "  labels = pd.DataFrame(label)\n",
        "  #split data and shuffle data\n",
        "  X_train, X_test, y_train, y_test = train_test_split(x, labels, test_size = 0.3, shuffle=True)\n",
        "\n",
        "  #return it to array\n",
        "  label_train = y_train.to_numpy()\n",
        "  data_train = X_train.to_numpy()\n",
        "  label_test = y_test.to_numpy()\n",
        "  data_test = X_test.to_numpy()\n",
        "\n",
        "\n",
        "  return label_train,data_train,label_test,data_test"
      ],
      "execution_count": 0,
      "outputs": []
    },
    {
      "cell_type": "code",
      "metadata": {
        "id": "SodCFsFTG4VR",
        "colab_type": "code",
        "colab": {}
      },
      "source": [
        "label_train,data_train,label_test,data_test = generate_data(6000)"
      ],
      "execution_count": 0,
      "outputs": []
    },
    {
      "cell_type": "code",
      "metadata": {
        "id": "6V_PR5rks_PF",
        "colab_type": "code",
        "colab": {}
      },
      "source": [
        "def relu(X):\n",
        "   return np.maximum(X,0)\n",
        "\n",
        "\n",
        "\n",
        "def relu_derivative(x):\n",
        "  return np.where(x>0, 1, 0)\n",
        "\n",
        "\n",
        "\n",
        "def softmax(x):\n",
        "  list_res=[]\n",
        "  for i in range(len(x)):\n",
        "    res = np.exp(x[i])/np.sum(np.exp(x[i]))\n",
        "    list_res.append(res)\n",
        "  return np.array(list_res)"
      ],
      "execution_count": 0,
      "outputs": []
    },
    {
      "cell_type": "code",
      "metadata": {
        "id": "K590eYDKMQ5k",
        "colab_type": "code",
        "colab": {}
      },
      "source": [
        "# Initialize our neural network parameters.\n",
        "params = {}\n",
        "params['w_1'] = np.random.randn(3, 3)\n",
        "params['b_1'] = np.zeros(3)\n",
        "\n",
        "params['w_2'] = np.random.randn(3, 3)\n",
        "params['b_2'] = np.zeros(3)\n",
        "\n",
        "params['w_3'] = np.random.randn(3, 3)\n",
        "params['b_3'] = np.zeros(3)"
      ],
      "execution_count": 0,
      "outputs": []
    },
    {
      "cell_type": "code",
      "metadata": {
        "id": "WUTvaxoUTGOl",
        "colab_type": "code",
        "outputId": "7418dff2-119e-412a-c0da-936028f160ca",
        "colab": {
          "base_uri": "https://localhost:8080/",
          "height": 221
        }
      },
      "source": [
        "params"
      ],
      "execution_count": 6,
      "outputs": [
        {
          "output_type": "execute_result",
          "data": {
            "text/plain": [
              "{'b_1': array([0., 0., 0.]),\n",
              " 'b_2': array([0., 0., 0.]),\n",
              " 'b_3': array([0., 0., 0.]),\n",
              " 'w_1': array([[ 0.13095318,  0.08409127,  0.08453143],\n",
              "        [-0.54589556,  0.16214619,  1.19208146],\n",
              "        [-0.99722143, -0.20116152, -0.27684717]]),\n",
              " 'w_2': array([[-0.26664542,  0.03836868, -1.66634156],\n",
              "        [-0.31305133,  1.07765227,  1.14124247],\n",
              "        [-1.14159903,  0.10028088,  1.69827081]]),\n",
              " 'w_3': array([[ 0.20220617,  1.63474355, -1.73137934],\n",
              "        [ 0.81286237, -0.64662802,  0.66244508],\n",
              "        [ 0.00350068,  1.37333547, -0.75474401]])}"
            ]
          },
          "metadata": {
            "tags": []
          },
          "execution_count": 6
        }
      ]
    },
    {
      "cell_type": "code",
      "metadata": {
        "id": "jgbAPB6q8Y7i",
        "colab_type": "code",
        "colab": {}
      },
      "source": [
        "def backprop(I, t, params):\n",
        "    N = I.shape[0]\n",
        "    \n",
        "    # Perform forwards computation.\n",
        "    J_in = np.dot(I, params['w_1'].T)  + params['b_1']\n",
        "    J_out = relu(J_in)\n",
        "    K_in = np.dot(J_out,params['w_2'].T) + params['b_2']\n",
        "    K_out = sigmoid(K_in)\n",
        "    L_in = np.dot(K_out,params['w_3'])+params['b_3']\n",
        "    L_out = softmax(L_in)\n",
        "\n",
        "    loss = (1./N) * np.sum(-t * np.log(L_out) - (1 - t) * np.log(1 - L_out))\n",
        "    \n",
        "    # Perform backwards computation.\n",
        "    loss_bar = 1\n",
        "    L_out_bar = ((-t)/L_out) + ((1-t)/(1-L_out))\n",
        "    L_in_bar = L_out_bar * softmax(L_in) * (1-softmax(L_in))\n",
        "    w_3_bar = np.dot(K_out.T, L_in_bar)\n",
        "    b_3_bar = np.dot(L_in_bar.T,np.ones(N))\n",
        "    K_out_bar = np.dot(L_in_bar,params['w_3'].T)\n",
        "    K_in_bar = K_out_bar * sigmoid(K_in) * (1-sigmoid(K_in))\n",
        "    w_2_bar = np.dot(J_out.T , K_in_bar)\n",
        "    b_2_bar = np.dot(K_in_bar.T,np.ones(N))\n",
        "    J_out_bar = np.dot(K_in_bar , params['w_2'].T)\n",
        "    \n",
        "    J_in_bar = J_out_bar * relu_derivative(J_out)\n",
        "    w_1_bar = np.dot(J_in_bar.T,I)\n",
        "    b_1_bar = np.dot(J_in_bar.T,np.ones(N))\n",
        "\n",
        "\n",
        "\n",
        "    grads = {}\n",
        "    grads['w_3'] = w_3_bar \n",
        "    grads['b_3'] = b_3_bar\n",
        "    grads['w_2'] = w_2_bar\n",
        "    grads['b_2'] = b_2_bar\n",
        "    grads['w_1'] = w_2_bar\n",
        "    grads['b_1'] = b_2_bar\n",
        "\n",
        "\n",
        "    return grads,loss"
      ],
      "execution_count": 0,
      "outputs": []
    },
    {
      "cell_type": "code",
      "metadata": {
        "id": "y5L8wNLDGXZ_",
        "colab_type": "code",
        "colab": {
          "base_uri": "https://localhost:8080/",
          "height": 54
        },
        "outputId": "6ca57aae-2a06-44ca-9011-7358fae2ec0d"
      },
      "source": [
        "\"\"\"\n",
        "alpha = 0.00002\n",
        "cost_list=[]\n",
        "iteration=0\n",
        "loss=1\n",
        "while loss>0.6:\n",
        "    iteration+=1        \n",
        "    grads, loss = backprop(data_train, label_train, params)\n",
        "    for k in params:\n",
        "        params[k] -= alpha * grads[k]\n",
        "    cost_list.append(loss)\n",
        "\"\"\""
      ],
      "execution_count": 8,
      "outputs": [
        {
          "output_type": "execute_result",
          "data": {
            "text/plain": [
              "'\\nalpha = 0.00002\\ncost_list=[]\\niteration=0\\nloss=1\\nwhile loss>0.6:\\n    iteration+=1        \\n    grads, loss = backprop(data_train, label_train, params)\\n    for k in params:\\n        params[k] -= alpha * grads[k]\\n    cost_list.append(loss)\\n'"
            ]
          },
          "metadata": {
            "tags": []
          },
          "execution_count": 8
        }
      ]
    },
    {
      "cell_type": "code",
      "metadata": {
        "id": "19FSPkgwBcJU",
        "colab_type": "code",
        "colab": {}
      },
      "source": [
        "alpha = 0.00002\n",
        "cost_list=[]\n",
        "number_steps = 10000\n",
        "for step in range(number_steps):      \n",
        "    grads, loss = backprop(data_train, label_train, params)\n",
        "    for k in params:\n",
        "        params[k] -= alpha * grads[k]\n",
        "    cost_list.append(loss)"
      ],
      "execution_count": 0,
      "outputs": []
    },
    {
      "cell_type": "code",
      "metadata": {
        "id": "odnLGEFTagFh",
        "colab_type": "code",
        "outputId": "4ee7cfd2-4161-46fc-892a-273e82c854a7",
        "colab": {
          "base_uri": "https://localhost:8080/",
          "height": 265
        }
      },
      "source": [
        "plt.plot(cost_list)\n",
        "plt.show()"
      ],
      "execution_count": 10,
      "outputs": [
        {
          "output_type": "display_data",
          "data": {
            "image/png": "[encoded data removed]",
            "text/plain": [
              "<Figure size 432x288 with 1 Axes>"
            ]
          },
          "metadata": {
            "tags": []
          }
        }
      ]
    },
    {
      "cell_type": "code",
      "metadata": {
        "id": "WqIaS1QmFpj7",
        "colab_type": "code",
        "colab": {
          "base_uri": "https://localhost:8080/",
          "height": 221
        },
        "outputId": "9e1cd673-3ab0-4dbb-dbb9-9982d1658174"
      },
      "source": [
        "params"
      ],
      "execution_count": 11,
      "outputs": [
        {
          "output_type": "execute_result",
          "data": {
            "text/plain": [
              "{'b_1': array([11.94692475,  0.44241461,  0.35109688]),\n",
              " 'b_2': array([11.94692475,  0.44241461,  0.35109688]),\n",
              " 'b_3': array([-2.69551367,  0.97924416,  1.71626951]),\n",
              " 'w_1': array([[-0.15835763,  0.6173231 ,  0.48571954],\n",
              "        [-1.84938517, -1.90766899,  3.20121433],\n",
              "        [-0.99722143, -0.20116152, -0.27684717]]),\n",
              " 'w_2': array([[-0.55595624,  0.57160051, -1.26515345],\n",
              "        [-1.61654094, -0.9921629 ,  3.15037534],\n",
              "        [-1.14159903,  0.10028088,  1.69827081]]),\n",
              " 'w_3': array([[ 6.90761415,  0.49501025, -7.29705402],\n",
              "        [ 0.12152897,  0.07805653,  0.62909393],\n",
              "        [ 1.50893798,  0.29002243, -1.17686828]])}"
            ]
          },
          "metadata": {
            "tags": []
          },
          "execution_count": 11
        }
      ]
    },
    {
      "cell_type": "code",
      "metadata": {
        "id": "fln_Gugl7kTY",
        "colab_type": "code",
        "colab": {}
      },
      "source": [
        "def forward(I, params):\n",
        "    N = I.shape[0]\n",
        "    \n",
        "    # Perform forwards computation.\n",
        "    J_in = np.dot(I, params['w_1'].T)  + params['b_1']\n",
        "    J_out = relu(J_in)\n",
        "    K_in = np.dot(J_out,params['w_2'].T) + params['b_2']\n",
        "    K_out = sigmoid(K_in)\n",
        "    L_in = np.dot(K_out,params['w_3'])+params['b_3']\n",
        "    L_out = softmax(L_in)\n",
        "    return L_out"
      ],
      "execution_count": 0,
      "outputs": []
    },
    {
      "cell_type": "code",
      "metadata": {
        "id": "iQ69Xt_49Uhm",
        "colab_type": "code",
        "colab": {
          "base_uri": "https://localhost:8080/",
          "height": 359
        },
        "outputId": "c47dc8a4-f62e-44b6-de8e-748511b61c57"
      },
      "source": [
        "prediction = forward(data_test,params)\n",
        "pred_df = pd.DataFrame(prediction,columns=['[d   a','   t   ','  a]'])\n",
        "label_df = pd.DataFrame(label_test,columns=['[L  a','b  e','l  s]'])\n",
        "result = pd.concat([pred_df,label_df],axis=1)\n",
        "result.head(10)"
      ],
      "execution_count": 13,
      "outputs": [
        {
          "output_type": "execute_result",
          "data": {
            "text/html": [
              "<div>\n",
              "<style scoped>\n",
              "    .dataframe tbody tr th:only-of-type {\n",
              "        vertical-align: middle;\n",
              "    }\n",
              "\n",
              "    .dataframe tbody tr th {\n",
              "        vertical-align: top;\n",
              "    }\n",
              "\n",
              "    .dataframe thead th {\n",
              "        text-align: right;\n",
              "    }\n",
              "</style>\n",
              "<table border=\"1\" class=\"dataframe\">\n",
              "  <thead>\n",
              "    <tr style=\"text-align: right;\">\n",
              "      <th></th>\n",
              "      <th>[d   a</th>\n",
              "      <th>t</th>\n",
              "      <th>a]</th>\n",
              "      <th>[L  a</th>\n",
              "      <th>b  e</th>\n",
              "      <th>l  s]</th>\n",
              "    </tr>\n",
              "  </thead>\n",
              "  <tbody>\n",
              "    <tr>\n",
              "      <th>0</th>\n",
              "      <td>0.289326</td>\n",
              "      <td>0.666513</td>\n",
              "      <td>0.044161</td>\n",
              "      <td>0.0</td>\n",
              "      <td>1.0</td>\n",
              "      <td>0.0</td>\n",
              "    </tr>\n",
              "    <tr>\n",
              "      <th>1</th>\n",
              "      <td>0.033265</td>\n",
              "      <td>0.556520</td>\n",
              "      <td>0.410214</td>\n",
              "      <td>0.0</td>\n",
              "      <td>1.0</td>\n",
              "      <td>0.0</td>\n",
              "    </tr>\n",
              "    <tr>\n",
              "      <th>2</th>\n",
              "      <td>0.008425</td>\n",
              "      <td>0.325983</td>\n",
              "      <td>0.665592</td>\n",
              "      <td>0.0</td>\n",
              "      <td>0.0</td>\n",
              "      <td>1.0</td>\n",
              "    </tr>\n",
              "    <tr>\n",
              "      <th>3</th>\n",
              "      <td>0.114386</td>\n",
              "      <td>0.722537</td>\n",
              "      <td>0.163077</td>\n",
              "      <td>0.0</td>\n",
              "      <td>1.0</td>\n",
              "      <td>0.0</td>\n",
              "    </tr>\n",
              "    <tr>\n",
              "      <th>4</th>\n",
              "      <td>0.008279</td>\n",
              "      <td>0.323463</td>\n",
              "      <td>0.668258</td>\n",
              "      <td>0.0</td>\n",
              "      <td>0.0</td>\n",
              "      <td>1.0</td>\n",
              "    </tr>\n",
              "    <tr>\n",
              "      <th>5</th>\n",
              "      <td>0.034964</td>\n",
              "      <td>0.565297</td>\n",
              "      <td>0.399739</td>\n",
              "      <td>0.0</td>\n",
              "      <td>1.0</td>\n",
              "      <td>0.0</td>\n",
              "    </tr>\n",
              "    <tr>\n",
              "      <th>6</th>\n",
              "      <td>0.932174</td>\n",
              "      <td>0.067759</td>\n",
              "      <td>0.000067</td>\n",
              "      <td>1.0</td>\n",
              "      <td>0.0</td>\n",
              "      <td>0.0</td>\n",
              "    </tr>\n",
              "    <tr>\n",
              "      <th>7</th>\n",
              "      <td>0.008214</td>\n",
              "      <td>0.322319</td>\n",
              "      <td>0.669467</td>\n",
              "      <td>0.0</td>\n",
              "      <td>0.0</td>\n",
              "      <td>1.0</td>\n",
              "    </tr>\n",
              "    <tr>\n",
              "      <th>8</th>\n",
              "      <td>0.931431</td>\n",
              "      <td>0.068499</td>\n",
              "      <td>0.000069</td>\n",
              "      <td>1.0</td>\n",
              "      <td>0.0</td>\n",
              "      <td>0.0</td>\n",
              "    </tr>\n",
              "    <tr>\n",
              "      <th>9</th>\n",
              "      <td>0.026399</td>\n",
              "      <td>0.515363</td>\n",
              "      <td>0.458238</td>\n",
              "      <td>0.0</td>\n",
              "      <td>1.0</td>\n",
              "      <td>0.0</td>\n",
              "    </tr>\n",
              "  </tbody>\n",
              "</table>\n",
              "</div>"
            ],
            "text/plain": [
              "     [d   a      t           a]  [L  a  b  e  l  s]\n",
              "0  0.289326  0.666513  0.044161    0.0   1.0    0.0\n",
              "1  0.033265  0.556520  0.410214    0.0   1.0    0.0\n",
              "2  0.008425  0.325983  0.665592    0.0   0.0    1.0\n",
              "3  0.114386  0.722537  0.163077    0.0   1.0    0.0\n",
              "4  0.008279  0.323463  0.668258    0.0   0.0    1.0\n",
              "5  0.034964  0.565297  0.399739    0.0   1.0    0.0\n",
              "6  0.932174  0.067759  0.000067    1.0   0.0    0.0\n",
              "7  0.008214  0.322319  0.669467    0.0   0.0    1.0\n",
              "8  0.931431  0.068499  0.000069    1.0   0.0    0.0\n",
              "9  0.026399  0.515363  0.458238    0.0   1.0    0.0"
            ]
          },
          "metadata": {
            "tags": []
          },
          "execution_count": 13
        }
      ]
    }
  ]
}